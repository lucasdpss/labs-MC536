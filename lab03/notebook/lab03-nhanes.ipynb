{
 "cells": [
  {
   "cell_type": "markdown",
   "source": [
    "# National Health and Nutrition Examination Survey (NHANES)\n",
    "[https://wwwn.cdc.gov/nchs/nhanes/](https://wwwn.cdc.gov/nchs/nhanes/)\n",
    "\n",
    "Este laboratório usará dados extraídos do NHANES.\n",
    "\n",
    "## NHANES datasets from 2013-2014\n",
    "\n",
    "Foram extraídos dados do [NHANES 2013-2014](https://wwwn.cdc.gov/nchs/nhanes/continuousnhanes/default.aspx?BeginYear=2013).\n",
    "\n",
    "Os dados estão disponíveis em arquivos CSV no diretório `/data/nhanes`. Lá está disponível a documentação do esquema dos arquivos."
   ],
   "metadata": {}
  },
  {
   "cell_type": "markdown",
   "source": [
    "# Tarefa 1 - Esquema Relacional\n",
    "\n",
    "Analise os arquivos CSV que estão no diretório `/data/nhanes` e escreva um esquema relacional referente às tabelas, suas chaves primárias e estrangeiras (não é SQL ainda). Coloque a chave primária com dois underlines antes e dois depois:\n",
    "\n",
    "\\__teste\\__"
   ],
   "metadata": {}
  },
  {
   "cell_type": "markdown",
   "source": [
    "## Resposta Tarefa 1:\n",
    "\n",
    " - Pessoa(\\__id\\__, gender, age)\n",
    " - Medicamento(\\__code__\\, name)\n",
    " - Uso_do_Medicamento(\\__person_id__\\, \\__drug_code__\\, days_use)\n",
    "     - __person_id__ CHE => Pessoa\n",
    "     - __drug_code__ CHE => Medicamento"
   ],
   "metadata": {}
  },
  {
   "cell_type": "markdown",
   "source": [
    "## Criação das Tabelas em SQL e Importação de Dados\n",
    "\n",
    "Considere o seguinte exemplo em que é criada uma tabela em SQL e importado dados do arquivo CSV `demographic-person.csv`."
   ],
   "metadata": {}
  },
  {
   "cell_type": "code",
   "execution_count": 9,
   "source": [
    "%defaultDatasource jdbc:h2:mem:db"
   ],
   "outputs": [],
   "metadata": {}
  },
  {
   "cell_type": "code",
   "execution_count": 10,
   "source": [
    "DROP TABLE IF EXISTS Pessoa;\r\n",
    "DROP TABLE IF EXISTS Medicamento;\r\n",
    "DROP TABLE IF EXISTS Uso_do_Medicamento;"
   ],
   "outputs": [],
   "metadata": {}
  },
  {
   "cell_type": "code",
   "execution_count": 11,
   "source": [
    "CREATE TABLE Pessoa (\r\n",
    "  Id VARCHAR(5) NOT NULL,\r\n",
    "  Gender INTEGER,\r\n",
    "  Age INTEGER,\r\n",
    "  PRIMARY KEY(Id)\r\n",
    ") AS SELECT\r\n",
    "    id,\r\n",
    "    gender,\r\n",
    "    age\r\n",
    "FROM CSVREAD('../data/demographic-person.csv');"
   ],
   "outputs": [],
   "metadata": {}
  },
  {
   "cell_type": "code",
   "execution_count": 12,
   "source": [
    "SELECT * FROM Pessoa;"
   ],
   "outputs": [
    {
     "output_type": "display_data",
     "data": {
      "application/vnd.jupyter.widget-view+json": {
       "model_id": "66d2dad9-90e1-4f63-9860-c0bd065ba4b7",
       "version_major": 2,
       "version_minor": 0
      },
      "application/vnd.code.notebook.error": {
       "name": "Error",
       "message": "INVALID mime type: method. Must be in the format \"type/subtype[;optionalparameter]\"",
       "stack": "Error: INVALID mime type: method. Must be in the format \"type/subtype[;optionalparameter]\"\n\tat new Tt (c:\\Users\\Lucas\\AppData\\Local\\Programs\\Microsoft VS Code\\resources\\app\\out\\vs\\workbench\\services\\extensions\\node\\extensionHostProcess.js:87:55799)\n\tat Function.text (c:\\Users\\Lucas\\AppData\\Local\\Programs\\Microsoft VS Code\\resources\\app\\out\\vs\\workbench\\services\\extensions\\node\\extensionHostProcess.js:87:56450)\n\tat d (c:\\Users\\Lucas\\AppData\\Local\\Programs\\Microsoft VS Code\\resources\\app\\extensions\\ipynb\\dist\\ipynbMain.js:1:139047)\n\tat l (c:\\Users\\Lucas\\AppData\\Local\\Programs\\Microsoft VS Code\\resources\\app\\extensions\\ipynb\\dist\\ipynbMain.js:1:139713)\n\tat p (c:\\Users\\Lucas\\AppData\\Local\\Programs\\Microsoft VS Code\\resources\\app\\extensions\\ipynb\\dist\\ipynbMain.js:1:140218)\n\tat Array.map (<anonymous>)\n\tat c:\\Users\\Lucas\\AppData\\Local\\Programs\\Microsoft VS Code\\resources\\app\\extensions\\ipynb\\dist\\ipynbMain.js:1:141404\n\tat c:\\Users\\Lucas\\AppData\\Local\\Programs\\Microsoft VS Code\\resources\\app\\extensions\\ipynb\\dist\\ipynbMain.js:1:141646\n\tat c:\\Users\\Lucas\\AppData\\Local\\Programs\\Microsoft VS Code\\resources\\app\\extensions\\ipynb\\dist\\ipynbMain.js:1:141653\n\tat Array.map (<anonymous>)\n\tat e.jupyterNotebookModelToNotebookData (c:\\Users\\Lucas\\AppData\\Local\\Programs\\Microsoft VS Code\\resources\\app\\extensions\\ipynb\\dist\\ipynbMain.js:1:140962)\n\tat e.NotebookSerializer.deserializeNotebook (c:\\Users\\Lucas\\AppData\\Local\\Programs\\Microsoft VS Code\\resources\\app\\extensions\\ipynb\\dist\\ipynbMain.js:1:142865)\n\tat P.$dataToNotebook (c:\\Users\\Lucas\\AppData\\Local\\Programs\\Microsoft VS Code\\resources\\app\\out\\vs\\workbench\\services\\extensions\\node\\extensionHostProcess.js:94:214167)\n\tat i._doInvokeHandler (c:\\Users\\Lucas\\AppData\\Local\\Programs\\Microsoft VS Code\\resources\\app\\out\\vs\\workbench\\services\\extensions\\node\\extensionHostProcess.js:98:13543)\n\tat i._invokeHandler (c:\\Users\\Lucas\\AppData\\Local\\Programs\\Microsoft VS Code\\resources\\app\\out\\vs\\workbench\\services\\extensions\\node\\extensionHostProcess.js:98:13227)\n\tat i._receiveRequest (c:\\Users\\Lucas\\AppData\\Local\\Programs\\Microsoft VS Code\\resources\\app\\out\\vs\\workbench\\services\\extensions\\node\\extensionHostProcess.js:98:11838)\n\tat i._receiveOneMessage (c:\\Users\\Lucas\\AppData\\Local\\Programs\\Microsoft VS Code\\resources\\app\\out\\vs\\workbench\\services\\extensions\\node\\extensionHostProcess.js:98:10766)\n\tat c:\\Users\\Lucas\\AppData\\Local\\Programs\\Microsoft VS Code\\resources\\app\\out\\vs\\workbench\\services\\extensions\\node\\extensionHostProcess.js:98:8663\n\tat c.fire (c:\\Users\\Lucas\\AppData\\Local\\Programs\\Microsoft VS Code\\resources\\app\\out\\vs\\workbench\\services\\extensions\\node\\extensionHostProcess.js:66:1712)\n\tat l.fire (c:\\Users\\Lucas\\AppData\\Local\\Programs\\Microsoft VS Code\\resources\\app\\out\\vs\\workbench\\services\\extensions\\node\\extensionHostProcess.js:74:15781)\n\tat c:\\Users\\Lucas\\AppData\\Local\\Programs\\Microsoft VS Code\\resources\\app\\out\\vs\\workbench\\services\\extensions\\node\\extensionHostProcess.js:113:30187\n\tat c.fire (c:\\Users\\Lucas\\AppData\\Local\\Programs\\Microsoft VS Code\\resources\\app\\out\\vs\\workbench\\services\\extensions\\node\\extensionHostProcess.js:66:1712)\n\tat l.fire (c:\\Users\\Lucas\\AppData\\Local\\Programs\\Microsoft VS Code\\resources\\app\\out\\vs\\workbench\\services\\extensions\\node\\extensionHostProcess.js:74:15781)\n\tat r._receiveMessage (c:\\Users\\Lucas\\AppData\\Local\\Programs\\Microsoft VS Code\\resources\\app\\out\\vs\\workbench\\services\\extensions\\node\\extensionHostProcess.js:74:21051)\n\tat c:\\Users\\Lucas\\AppData\\Local\\Programs\\Microsoft VS Code\\resources\\app\\out\\vs\\workbench\\services\\extensions\\node\\extensionHostProcess.js:74:17929\n\tat c.fire (c:\\Users\\Lucas\\AppData\\Local\\Programs\\Microsoft VS Code\\resources\\app\\out\\vs\\workbench\\services\\extensions\\node\\extensionHostProcess.js:66:1712)\n\tat v.acceptChunk (c:\\Users\\Lucas\\AppData\\Local\\Programs\\Microsoft VS Code\\resources\\app\\out\\vs\\workbench\\services\\extensions\\node\\extensionHostProcess.js:74:13142)\n\tat c:\\Users\\Lucas\\AppData\\Local\\Programs\\Microsoft VS Code\\resources\\app\\out\\vs\\workbench\\services\\extensions\\node\\extensionHostProcess.js:74:12490\n\tat Socket.w (c:\\Users\\Lucas\\AppData\\Local\\Programs\\Microsoft VS Code\\resources\\app\\out\\vs\\workbench\\services\\extensions\\node\\extensionHostProcess.js:113:13350)\n\tat Socket.emit (events.js:315:20)\n\tat Socket.EventEmitter.emit (domain.js:467:12)\n\tat addChunk (internal/streams/readable.js:309:12)\n\tat readableAddChunk (internal/streams/readable.js:284:9)\n\tat Socket.Readable.push (internal/streams/readable.js:223:10)\n\tat Pipe.onStreamRead (internal/stream_base_commons.js:188:23)"
      }
     },
     "metadata": {}
    }
   ],
   "metadata": {}
  },
  {
   "cell_type": "markdown",
   "source": [
    "# Tarefa 2 - Criação das Tabelas em SQL e Importação de Dados\n",
    "\n",
    "Escreva instruções SQL para montar as duas tabelas restante, conforme definido no esquema relacional da **Tarefa 1**.\n",
    "\n",
    "**Importante:** não defina chave primária para a tabela de uso de medicamento.\n",
    "\n",
    "Durante a criação das tabelas, realize a importação dos dados do arquivo CSV nas tabelas criadas, conforme exemplo anterior."
   ],
   "metadata": {}
  },
  {
   "cell_type": "code",
   "execution_count": 17,
   "source": [
    "CREATE TABLE Medicamento (\r\n",
    "  Code VARCHAR(100) NOT NULL,\r\n",
    "  Name VARCHAR(100),\r\n",
    "  PRIMARY KEY(Code)\r\n",
    ") AS SELECT\r\n",
    "    code,\r\n",
    "    name\r\n",
    "FROM CSVREAD('../data/medications-drug.csv');"
   ],
   "outputs": [],
   "metadata": {}
  },
  {
   "cell_type": "code",
   "execution_count": 19,
   "source": [
    "SELECT * FROM Medicamento;"
   ],
   "outputs": [
    {
     "output_type": "display_data",
     "data": {
      "application/vnd.jupyter.widget-view+json": {
       "model_id": "5b9970fb-9455-4b88-ad90-94e7a0f5da01",
       "version_major": 2,
       "version_minor": 0
      },
      "application/vnd.code.notebook.error": {
       "name": "Error",
       "message": "INVALID mime type: method. Must be in the format \"type/subtype[;optionalparameter]\"",
       "stack": "Error: INVALID mime type: method. Must be in the format \"type/subtype[;optionalparameter]\"\n\tat new Tt (c:\\Users\\Lucas\\AppData\\Local\\Programs\\Microsoft VS Code\\resources\\app\\out\\vs\\workbench\\services\\extensions\\node\\extensionHostProcess.js:87:55799)\n\tat Function.text (c:\\Users\\Lucas\\AppData\\Local\\Programs\\Microsoft VS Code\\resources\\app\\out\\vs\\workbench\\services\\extensions\\node\\extensionHostProcess.js:87:56450)\n\tat d (c:\\Users\\Lucas\\AppData\\Local\\Programs\\Microsoft VS Code\\resources\\app\\extensions\\ipynb\\dist\\ipynbMain.js:1:139047)\n\tat l (c:\\Users\\Lucas\\AppData\\Local\\Programs\\Microsoft VS Code\\resources\\app\\extensions\\ipynb\\dist\\ipynbMain.js:1:139713)\n\tat p (c:\\Users\\Lucas\\AppData\\Local\\Programs\\Microsoft VS Code\\resources\\app\\extensions\\ipynb\\dist\\ipynbMain.js:1:140218)\n\tat Array.map (<anonymous>)\n\tat c:\\Users\\Lucas\\AppData\\Local\\Programs\\Microsoft VS Code\\resources\\app\\extensions\\ipynb\\dist\\ipynbMain.js:1:141404\n\tat c:\\Users\\Lucas\\AppData\\Local\\Programs\\Microsoft VS Code\\resources\\app\\extensions\\ipynb\\dist\\ipynbMain.js:1:141646\n\tat c:\\Users\\Lucas\\AppData\\Local\\Programs\\Microsoft VS Code\\resources\\app\\extensions\\ipynb\\dist\\ipynbMain.js:1:141653\n\tat Array.map (<anonymous>)\n\tat e.jupyterNotebookModelToNotebookData (c:\\Users\\Lucas\\AppData\\Local\\Programs\\Microsoft VS Code\\resources\\app\\extensions\\ipynb\\dist\\ipynbMain.js:1:140962)\n\tat e.NotebookSerializer.deserializeNotebook (c:\\Users\\Lucas\\AppData\\Local\\Programs\\Microsoft VS Code\\resources\\app\\extensions\\ipynb\\dist\\ipynbMain.js:1:142865)\n\tat P.$dataToNotebook (c:\\Users\\Lucas\\AppData\\Local\\Programs\\Microsoft VS Code\\resources\\app\\out\\vs\\workbench\\services\\extensions\\node\\extensionHostProcess.js:94:214167)\n\tat i._doInvokeHandler (c:\\Users\\Lucas\\AppData\\Local\\Programs\\Microsoft VS Code\\resources\\app\\out\\vs\\workbench\\services\\extensions\\node\\extensionHostProcess.js:98:13543)\n\tat i._invokeHandler (c:\\Users\\Lucas\\AppData\\Local\\Programs\\Microsoft VS Code\\resources\\app\\out\\vs\\workbench\\services\\extensions\\node\\extensionHostProcess.js:98:13227)\n\tat i._receiveRequest (c:\\Users\\Lucas\\AppData\\Local\\Programs\\Microsoft VS Code\\resources\\app\\out\\vs\\workbench\\services\\extensions\\node\\extensionHostProcess.js:98:11838)\n\tat i._receiveOneMessage (c:\\Users\\Lucas\\AppData\\Local\\Programs\\Microsoft VS Code\\resources\\app\\out\\vs\\workbench\\services\\extensions\\node\\extensionHostProcess.js:98:10766)\n\tat c:\\Users\\Lucas\\AppData\\Local\\Programs\\Microsoft VS Code\\resources\\app\\out\\vs\\workbench\\services\\extensions\\node\\extensionHostProcess.js:98:8663\n\tat c.fire (c:\\Users\\Lucas\\AppData\\Local\\Programs\\Microsoft VS Code\\resources\\app\\out\\vs\\workbench\\services\\extensions\\node\\extensionHostProcess.js:66:1712)\n\tat l.fire (c:\\Users\\Lucas\\AppData\\Local\\Programs\\Microsoft VS Code\\resources\\app\\out\\vs\\workbench\\services\\extensions\\node\\extensionHostProcess.js:74:15781)\n\tat c:\\Users\\Lucas\\AppData\\Local\\Programs\\Microsoft VS Code\\resources\\app\\out\\vs\\workbench\\services\\extensions\\node\\extensionHostProcess.js:113:30187\n\tat c.fire (c:\\Users\\Lucas\\AppData\\Local\\Programs\\Microsoft VS Code\\resources\\app\\out\\vs\\workbench\\services\\extensions\\node\\extensionHostProcess.js:66:1712)\n\tat l.fire (c:\\Users\\Lucas\\AppData\\Local\\Programs\\Microsoft VS Code\\resources\\app\\out\\vs\\workbench\\services\\extensions\\node\\extensionHostProcess.js:74:15781)\n\tat r._receiveMessage (c:\\Users\\Lucas\\AppData\\Local\\Programs\\Microsoft VS Code\\resources\\app\\out\\vs\\workbench\\services\\extensions\\node\\extensionHostProcess.js:74:21051)\n\tat c:\\Users\\Lucas\\AppData\\Local\\Programs\\Microsoft VS Code\\resources\\app\\out\\vs\\workbench\\services\\extensions\\node\\extensionHostProcess.js:74:17929\n\tat c.fire (c:\\Users\\Lucas\\AppData\\Local\\Programs\\Microsoft VS Code\\resources\\app\\out\\vs\\workbench\\services\\extensions\\node\\extensionHostProcess.js:66:1712)\n\tat v.acceptChunk (c:\\Users\\Lucas\\AppData\\Local\\Programs\\Microsoft VS Code\\resources\\app\\out\\vs\\workbench\\services\\extensions\\node\\extensionHostProcess.js:74:13142)\n\tat c:\\Users\\Lucas\\AppData\\Local\\Programs\\Microsoft VS Code\\resources\\app\\out\\vs\\workbench\\services\\extensions\\node\\extensionHostProcess.js:74:12490\n\tat Socket.w (c:\\Users\\Lucas\\AppData\\Local\\Programs\\Microsoft VS Code\\resources\\app\\out\\vs\\workbench\\services\\extensions\\node\\extensionHostProcess.js:113:13350)\n\tat Socket.emit (events.js:315:20)\n\tat Socket.EventEmitter.emit (domain.js:467:12)\n\tat addChunk (internal/streams/readable.js:309:12)\n\tat readableAddChunk (internal/streams/readable.js:284:9)\n\tat Socket.Readable.push (internal/streams/readable.js:223:10)\n\tat Pipe.onStreamRead (internal/stream_base_commons.js:188:23)"
      }
     },
     "metadata": {}
    }
   ],
   "metadata": {}
  },
  {
   "cell_type": "code",
   "execution_count": 22,
   "source": [
    "CREATE TABLE Uso_do_Medicamento (\r\n",
    "  PersonId VARCHAR(5) NOT NULL,\r\n",
    "  DrugCode VARCHAR(100) NOT NULL,\r\n",
    "  DaysUse INTEGER,\r\n",
    "  FOREIGN KEY(PersonId)\r\n",
    "    REFERENCES Pessoa(Id)\r\n",
    "      ON DELETE NO ACTION\r\n",
    "      ON UPDATE NO ACTION,\r\n",
    "  FOREIGN KEY(DrugCode)\r\n",
    "    REFERENCES Medicamento(Code)\r\n",
    "      ON DELETE NO ACTION\r\n",
    "      ON UPDATE NO ACTION\r\n",
    ") AS SELECT\r\n",
    "    person_id,\r\n",
    "    drug_code,\r\n",
    "    days_use\r\n",
    "FROM CSVREAD('../data/medications-use.csv');"
   ],
   "outputs": [],
   "metadata": {}
  },
  {
   "cell_type": "code",
   "execution_count": 23,
   "source": [
    "SELECT * FROM Uso_do_Medicamento;"
   ],
   "outputs": [
    {
     "output_type": "display_data",
     "data": {
      "application/vnd.jupyter.widget-view+json": {
       "model_id": "8f1a85dd-fac4-4dfd-9e2c-b2f328edfcc3",
       "version_major": 2,
       "version_minor": 0
      },
      "application/vnd.code.notebook.error": {
       "name": "Error",
       "message": "INVALID mime type: method. Must be in the format \"type/subtype[;optionalparameter]\"",
       "stack": "Error: INVALID mime type: method. Must be in the format \"type/subtype[;optionalparameter]\"\n\tat new Tt (c:\\Users\\Lucas\\AppData\\Local\\Programs\\Microsoft VS Code\\resources\\app\\out\\vs\\workbench\\services\\extensions\\node\\extensionHostProcess.js:87:55799)\n\tat Function.text (c:\\Users\\Lucas\\AppData\\Local\\Programs\\Microsoft VS Code\\resources\\app\\out\\vs\\workbench\\services\\extensions\\node\\extensionHostProcess.js:87:56450)\n\tat d (c:\\Users\\Lucas\\AppData\\Local\\Programs\\Microsoft VS Code\\resources\\app\\extensions\\ipynb\\dist\\ipynbMain.js:1:139047)\n\tat l (c:\\Users\\Lucas\\AppData\\Local\\Programs\\Microsoft VS Code\\resources\\app\\extensions\\ipynb\\dist\\ipynbMain.js:1:139713)\n\tat p (c:\\Users\\Lucas\\AppData\\Local\\Programs\\Microsoft VS Code\\resources\\app\\extensions\\ipynb\\dist\\ipynbMain.js:1:140218)\n\tat Array.map (<anonymous>)\n\tat c:\\Users\\Lucas\\AppData\\Local\\Programs\\Microsoft VS Code\\resources\\app\\extensions\\ipynb\\dist\\ipynbMain.js:1:141404\n\tat c:\\Users\\Lucas\\AppData\\Local\\Programs\\Microsoft VS Code\\resources\\app\\extensions\\ipynb\\dist\\ipynbMain.js:1:141646\n\tat c:\\Users\\Lucas\\AppData\\Local\\Programs\\Microsoft VS Code\\resources\\app\\extensions\\ipynb\\dist\\ipynbMain.js:1:141653\n\tat Array.map (<anonymous>)\n\tat e.jupyterNotebookModelToNotebookData (c:\\Users\\Lucas\\AppData\\Local\\Programs\\Microsoft VS Code\\resources\\app\\extensions\\ipynb\\dist\\ipynbMain.js:1:140962)\n\tat e.NotebookSerializer.deserializeNotebook (c:\\Users\\Lucas\\AppData\\Local\\Programs\\Microsoft VS Code\\resources\\app\\extensions\\ipynb\\dist\\ipynbMain.js:1:142865)\n\tat P.$dataToNotebook (c:\\Users\\Lucas\\AppData\\Local\\Programs\\Microsoft VS Code\\resources\\app\\out\\vs\\workbench\\services\\extensions\\node\\extensionHostProcess.js:94:214167)\n\tat i._doInvokeHandler (c:\\Users\\Lucas\\AppData\\Local\\Programs\\Microsoft VS Code\\resources\\app\\out\\vs\\workbench\\services\\extensions\\node\\extensionHostProcess.js:98:13543)\n\tat i._invokeHandler (c:\\Users\\Lucas\\AppData\\Local\\Programs\\Microsoft VS Code\\resources\\app\\out\\vs\\workbench\\services\\extensions\\node\\extensionHostProcess.js:98:13227)\n\tat i._receiveRequest (c:\\Users\\Lucas\\AppData\\Local\\Programs\\Microsoft VS Code\\resources\\app\\out\\vs\\workbench\\services\\extensions\\node\\extensionHostProcess.js:98:11838)\n\tat i._receiveOneMessage (c:\\Users\\Lucas\\AppData\\Local\\Programs\\Microsoft VS Code\\resources\\app\\out\\vs\\workbench\\services\\extensions\\node\\extensionHostProcess.js:98:10766)\n\tat c:\\Users\\Lucas\\AppData\\Local\\Programs\\Microsoft VS Code\\resources\\app\\out\\vs\\workbench\\services\\extensions\\node\\extensionHostProcess.js:98:8663\n\tat c.fire (c:\\Users\\Lucas\\AppData\\Local\\Programs\\Microsoft VS Code\\resources\\app\\out\\vs\\workbench\\services\\extensions\\node\\extensionHostProcess.js:66:1712)\n\tat l.fire (c:\\Users\\Lucas\\AppData\\Local\\Programs\\Microsoft VS Code\\resources\\app\\out\\vs\\workbench\\services\\extensions\\node\\extensionHostProcess.js:74:15781)\n\tat c:\\Users\\Lucas\\AppData\\Local\\Programs\\Microsoft VS Code\\resources\\app\\out\\vs\\workbench\\services\\extensions\\node\\extensionHostProcess.js:113:30187\n\tat c.fire (c:\\Users\\Lucas\\AppData\\Local\\Programs\\Microsoft VS Code\\resources\\app\\out\\vs\\workbench\\services\\extensions\\node\\extensionHostProcess.js:66:1712)\n\tat l.fire (c:\\Users\\Lucas\\AppData\\Local\\Programs\\Microsoft VS Code\\resources\\app\\out\\vs\\workbench\\services\\extensions\\node\\extensionHostProcess.js:74:15781)\n\tat r._receiveMessage (c:\\Users\\Lucas\\AppData\\Local\\Programs\\Microsoft VS Code\\resources\\app\\out\\vs\\workbench\\services\\extensions\\node\\extensionHostProcess.js:74:21051)\n\tat c:\\Users\\Lucas\\AppData\\Local\\Programs\\Microsoft VS Code\\resources\\app\\out\\vs\\workbench\\services\\extensions\\node\\extensionHostProcess.js:74:17929\n\tat c.fire (c:\\Users\\Lucas\\AppData\\Local\\Programs\\Microsoft VS Code\\resources\\app\\out\\vs\\workbench\\services\\extensions\\node\\extensionHostProcess.js:66:1712)\n\tat v.acceptChunk (c:\\Users\\Lucas\\AppData\\Local\\Programs\\Microsoft VS Code\\resources\\app\\out\\vs\\workbench\\services\\extensions\\node\\extensionHostProcess.js:74:13142)\n\tat c:\\Users\\Lucas\\AppData\\Local\\Programs\\Microsoft VS Code\\resources\\app\\out\\vs\\workbench\\services\\extensions\\node\\extensionHostProcess.js:74:12490\n\tat Socket.w (c:\\Users\\Lucas\\AppData\\Local\\Programs\\Microsoft VS Code\\resources\\app\\out\\vs\\workbench\\services\\extensions\\node\\extensionHostProcess.js:113:13350)\n\tat Socket.emit (events.js:315:20)\n\tat Socket.EventEmitter.emit (domain.js:467:12)\n\tat addChunk (internal/streams/readable.js:309:12)\n\tat readableAddChunk (internal/streams/readable.js:284:9)\n\tat Socket.Readable.push (internal/streams/readable.js:223:10)\n\tat Pipe.onStreamRead (internal/stream_base_commons.js:188:23)"
      }
     },
     "metadata": {}
    }
   ],
   "metadata": {}
  },
  {
   "cell_type": "markdown",
   "source": [
    "# Tarefa 3 - Consultas Simples\n",
    "\n",
    "Execute as consultas a seguir."
   ],
   "metadata": {}
  },
  {
   "cell_type": "markdown",
   "source": [
    "a) Liste pessoas com idade acima de 60"
   ],
   "metadata": {}
  },
  {
   "cell_type": "code",
   "execution_count": 25,
   "source": [
    "SELECT P.Id, P.age\r\n",
    "FROM Pessoa P WHERE P.age > 60"
   ],
   "outputs": [
    {
     "output_type": "display_data",
     "data": {
      "application/vnd.jupyter.widget-view+json": {
       "model_id": "edc8ac51-f907-4ec6-9aeb-a78ffa7bc46a",
       "version_major": 2,
       "version_minor": 0
      },
      "application/vnd.code.notebook.error": {
       "name": "Error",
       "message": "INVALID mime type: method. Must be in the format \"type/subtype[;optionalparameter]\"",
       "stack": "Error: INVALID mime type: method. Must be in the format \"type/subtype[;optionalparameter]\"\n\tat new Tt (c:\\Users\\Lucas\\AppData\\Local\\Programs\\Microsoft VS Code\\resources\\app\\out\\vs\\workbench\\services\\extensions\\node\\extensionHostProcess.js:87:55799)\n\tat Function.text (c:\\Users\\Lucas\\AppData\\Local\\Programs\\Microsoft VS Code\\resources\\app\\out\\vs\\workbench\\services\\extensions\\node\\extensionHostProcess.js:87:56450)\n\tat d (c:\\Users\\Lucas\\AppData\\Local\\Programs\\Microsoft VS Code\\resources\\app\\extensions\\ipynb\\dist\\ipynbMain.js:1:139047)\n\tat l (c:\\Users\\Lucas\\AppData\\Local\\Programs\\Microsoft VS Code\\resources\\app\\extensions\\ipynb\\dist\\ipynbMain.js:1:139713)\n\tat p (c:\\Users\\Lucas\\AppData\\Local\\Programs\\Microsoft VS Code\\resources\\app\\extensions\\ipynb\\dist\\ipynbMain.js:1:140218)\n\tat Array.map (<anonymous>)\n\tat c:\\Users\\Lucas\\AppData\\Local\\Programs\\Microsoft VS Code\\resources\\app\\extensions\\ipynb\\dist\\ipynbMain.js:1:141404\n\tat c:\\Users\\Lucas\\AppData\\Local\\Programs\\Microsoft VS Code\\resources\\app\\extensions\\ipynb\\dist\\ipynbMain.js:1:141646\n\tat c:\\Users\\Lucas\\AppData\\Local\\Programs\\Microsoft VS Code\\resources\\app\\extensions\\ipynb\\dist\\ipynbMain.js:1:141653\n\tat Array.map (<anonymous>)\n\tat e.jupyterNotebookModelToNotebookData (c:\\Users\\Lucas\\AppData\\Local\\Programs\\Microsoft VS Code\\resources\\app\\extensions\\ipynb\\dist\\ipynbMain.js:1:140962)\n\tat e.NotebookSerializer.deserializeNotebook (c:\\Users\\Lucas\\AppData\\Local\\Programs\\Microsoft VS Code\\resources\\app\\extensions\\ipynb\\dist\\ipynbMain.js:1:142865)\n\tat P.$dataToNotebook (c:\\Users\\Lucas\\AppData\\Local\\Programs\\Microsoft VS Code\\resources\\app\\out\\vs\\workbench\\services\\extensions\\node\\extensionHostProcess.js:94:214167)\n\tat i._doInvokeHandler (c:\\Users\\Lucas\\AppData\\Local\\Programs\\Microsoft VS Code\\resources\\app\\out\\vs\\workbench\\services\\extensions\\node\\extensionHostProcess.js:98:13543)\n\tat i._invokeHandler (c:\\Users\\Lucas\\AppData\\Local\\Programs\\Microsoft VS Code\\resources\\app\\out\\vs\\workbench\\services\\extensions\\node\\extensionHostProcess.js:98:13227)\n\tat i._receiveRequest (c:\\Users\\Lucas\\AppData\\Local\\Programs\\Microsoft VS Code\\resources\\app\\out\\vs\\workbench\\services\\extensions\\node\\extensionHostProcess.js:98:11838)\n\tat i._receiveOneMessage (c:\\Users\\Lucas\\AppData\\Local\\Programs\\Microsoft VS Code\\resources\\app\\out\\vs\\workbench\\services\\extensions\\node\\extensionHostProcess.js:98:10766)\n\tat c:\\Users\\Lucas\\AppData\\Local\\Programs\\Microsoft VS Code\\resources\\app\\out\\vs\\workbench\\services\\extensions\\node\\extensionHostProcess.js:98:8663\n\tat c.fire (c:\\Users\\Lucas\\AppData\\Local\\Programs\\Microsoft VS Code\\resources\\app\\out\\vs\\workbench\\services\\extensions\\node\\extensionHostProcess.js:66:1712)\n\tat l.fire (c:\\Users\\Lucas\\AppData\\Local\\Programs\\Microsoft VS Code\\resources\\app\\out\\vs\\workbench\\services\\extensions\\node\\extensionHostProcess.js:74:15781)\n\tat c:\\Users\\Lucas\\AppData\\Local\\Programs\\Microsoft VS Code\\resources\\app\\out\\vs\\workbench\\services\\extensions\\node\\extensionHostProcess.js:113:30187\n\tat c.fire (c:\\Users\\Lucas\\AppData\\Local\\Programs\\Microsoft VS Code\\resources\\app\\out\\vs\\workbench\\services\\extensions\\node\\extensionHostProcess.js:66:1712)\n\tat l.fire (c:\\Users\\Lucas\\AppData\\Local\\Programs\\Microsoft VS Code\\resources\\app\\out\\vs\\workbench\\services\\extensions\\node\\extensionHostProcess.js:74:15781)\n\tat r._receiveMessage (c:\\Users\\Lucas\\AppData\\Local\\Programs\\Microsoft VS Code\\resources\\app\\out\\vs\\workbench\\services\\extensions\\node\\extensionHostProcess.js:74:21051)\n\tat c:\\Users\\Lucas\\AppData\\Local\\Programs\\Microsoft VS Code\\resources\\app\\out\\vs\\workbench\\services\\extensions\\node\\extensionHostProcess.js:74:17929\n\tat c.fire (c:\\Users\\Lucas\\AppData\\Local\\Programs\\Microsoft VS Code\\resources\\app\\out\\vs\\workbench\\services\\extensions\\node\\extensionHostProcess.js:66:1712)\n\tat v.acceptChunk (c:\\Users\\Lucas\\AppData\\Local\\Programs\\Microsoft VS Code\\resources\\app\\out\\vs\\workbench\\services\\extensions\\node\\extensionHostProcess.js:74:13142)\n\tat c:\\Users\\Lucas\\AppData\\Local\\Programs\\Microsoft VS Code\\resources\\app\\out\\vs\\workbench\\services\\extensions\\node\\extensionHostProcess.js:74:12490\n\tat Socket.w (c:\\Users\\Lucas\\AppData\\Local\\Programs\\Microsoft VS Code\\resources\\app\\out\\vs\\workbench\\services\\extensions\\node\\extensionHostProcess.js:113:13350)\n\tat Socket.emit (events.js:315:20)\n\tat Socket.EventEmitter.emit (domain.js:467:12)\n\tat addChunk (internal/streams/readable.js:309:12)\n\tat readableAddChunk (internal/streams/readable.js:284:9)\n\tat Socket.Readable.push (internal/streams/readable.js:223:10)\n\tat Pipe.onStreamRead (internal/stream_base_commons.js:188:23)"
      }
     },
     "metadata": {}
    }
   ],
   "metadata": {}
  },
  {
   "cell_type": "markdown",
   "source": [
    "b) Liste as idades das pessoas cadastradas (sem repetições)"
   ],
   "metadata": {}
  },
  {
   "cell_type": "code",
   "execution_count": 26,
   "source": [
    "SELECT DISTINCT P.age\r\n",
    "    FROM Pessoa P"
   ],
   "outputs": [
    {
     "output_type": "display_data",
     "data": {
      "application/vnd.jupyter.widget-view+json": {
       "model_id": "dbb5015d-d8cb-4ff5-8603-f258362d84e5",
       "version_major": 2,
       "version_minor": 0
      },
      "application/vnd.code.notebook.error": {
       "name": "Error",
       "message": "INVALID mime type: method. Must be in the format \"type/subtype[;optionalparameter]\"",
       "stack": "Error: INVALID mime type: method. Must be in the format \"type/subtype[;optionalparameter]\"\n\tat new Tt (c:\\Users\\Lucas\\AppData\\Local\\Programs\\Microsoft VS Code\\resources\\app\\out\\vs\\workbench\\services\\extensions\\node\\extensionHostProcess.js:87:55799)\n\tat Function.text (c:\\Users\\Lucas\\AppData\\Local\\Programs\\Microsoft VS Code\\resources\\app\\out\\vs\\workbench\\services\\extensions\\node\\extensionHostProcess.js:87:56450)\n\tat d (c:\\Users\\Lucas\\AppData\\Local\\Programs\\Microsoft VS Code\\resources\\app\\extensions\\ipynb\\dist\\ipynbMain.js:1:139047)\n\tat l (c:\\Users\\Lucas\\AppData\\Local\\Programs\\Microsoft VS Code\\resources\\app\\extensions\\ipynb\\dist\\ipynbMain.js:1:139713)\n\tat p (c:\\Users\\Lucas\\AppData\\Local\\Programs\\Microsoft VS Code\\resources\\app\\extensions\\ipynb\\dist\\ipynbMain.js:1:140218)\n\tat Array.map (<anonymous>)\n\tat c:\\Users\\Lucas\\AppData\\Local\\Programs\\Microsoft VS Code\\resources\\app\\extensions\\ipynb\\dist\\ipynbMain.js:1:141404\n\tat c:\\Users\\Lucas\\AppData\\Local\\Programs\\Microsoft VS Code\\resources\\app\\extensions\\ipynb\\dist\\ipynbMain.js:1:141646\n\tat c:\\Users\\Lucas\\AppData\\Local\\Programs\\Microsoft VS Code\\resources\\app\\extensions\\ipynb\\dist\\ipynbMain.js:1:141653\n\tat Array.map (<anonymous>)\n\tat e.jupyterNotebookModelToNotebookData (c:\\Users\\Lucas\\AppData\\Local\\Programs\\Microsoft VS Code\\resources\\app\\extensions\\ipynb\\dist\\ipynbMain.js:1:140962)\n\tat e.NotebookSerializer.deserializeNotebook (c:\\Users\\Lucas\\AppData\\Local\\Programs\\Microsoft VS Code\\resources\\app\\extensions\\ipynb\\dist\\ipynbMain.js:1:142865)\n\tat P.$dataToNotebook (c:\\Users\\Lucas\\AppData\\Local\\Programs\\Microsoft VS Code\\resources\\app\\out\\vs\\workbench\\services\\extensions\\node\\extensionHostProcess.js:94:214167)\n\tat i._doInvokeHandler (c:\\Users\\Lucas\\AppData\\Local\\Programs\\Microsoft VS Code\\resources\\app\\out\\vs\\workbench\\services\\extensions\\node\\extensionHostProcess.js:98:13543)\n\tat i._invokeHandler (c:\\Users\\Lucas\\AppData\\Local\\Programs\\Microsoft VS Code\\resources\\app\\out\\vs\\workbench\\services\\extensions\\node\\extensionHostProcess.js:98:13227)\n\tat i._receiveRequest (c:\\Users\\Lucas\\AppData\\Local\\Programs\\Microsoft VS Code\\resources\\app\\out\\vs\\workbench\\services\\extensions\\node\\extensionHostProcess.js:98:11838)\n\tat i._receiveOneMessage (c:\\Users\\Lucas\\AppData\\Local\\Programs\\Microsoft VS Code\\resources\\app\\out\\vs\\workbench\\services\\extensions\\node\\extensionHostProcess.js:98:10766)\n\tat c:\\Users\\Lucas\\AppData\\Local\\Programs\\Microsoft VS Code\\resources\\app\\out\\vs\\workbench\\services\\extensions\\node\\extensionHostProcess.js:98:8663\n\tat c.fire (c:\\Users\\Lucas\\AppData\\Local\\Programs\\Microsoft VS Code\\resources\\app\\out\\vs\\workbench\\services\\extensions\\node\\extensionHostProcess.js:66:1712)\n\tat l.fire (c:\\Users\\Lucas\\AppData\\Local\\Programs\\Microsoft VS Code\\resources\\app\\out\\vs\\workbench\\services\\extensions\\node\\extensionHostProcess.js:74:15781)\n\tat c:\\Users\\Lucas\\AppData\\Local\\Programs\\Microsoft VS Code\\resources\\app\\out\\vs\\workbench\\services\\extensions\\node\\extensionHostProcess.js:113:30187\n\tat c.fire (c:\\Users\\Lucas\\AppData\\Local\\Programs\\Microsoft VS Code\\resources\\app\\out\\vs\\workbench\\services\\extensions\\node\\extensionHostProcess.js:66:1712)\n\tat l.fire (c:\\Users\\Lucas\\AppData\\Local\\Programs\\Microsoft VS Code\\resources\\app\\out\\vs\\workbench\\services\\extensions\\node\\extensionHostProcess.js:74:15781)\n\tat r._receiveMessage (c:\\Users\\Lucas\\AppData\\Local\\Programs\\Microsoft VS Code\\resources\\app\\out\\vs\\workbench\\services\\extensions\\node\\extensionHostProcess.js:74:21051)\n\tat c:\\Users\\Lucas\\AppData\\Local\\Programs\\Microsoft VS Code\\resources\\app\\out\\vs\\workbench\\services\\extensions\\node\\extensionHostProcess.js:74:17929\n\tat c.fire (c:\\Users\\Lucas\\AppData\\Local\\Programs\\Microsoft VS Code\\resources\\app\\out\\vs\\workbench\\services\\extensions\\node\\extensionHostProcess.js:66:1712)\n\tat v.acceptChunk (c:\\Users\\Lucas\\AppData\\Local\\Programs\\Microsoft VS Code\\resources\\app\\out\\vs\\workbench\\services\\extensions\\node\\extensionHostProcess.js:74:13142)\n\tat c:\\Users\\Lucas\\AppData\\Local\\Programs\\Microsoft VS Code\\resources\\app\\out\\vs\\workbench\\services\\extensions\\node\\extensionHostProcess.js:74:12490\n\tat Socket.w (c:\\Users\\Lucas\\AppData\\Local\\Programs\\Microsoft VS Code\\resources\\app\\out\\vs\\workbench\\services\\extensions\\node\\extensionHostProcess.js:113:13350)\n\tat Socket.emit (events.js:315:20)\n\tat Socket.EventEmitter.emit (domain.js:467:12)\n\tat addChunk (internal/streams/readable.js:309:12)\n\tat readableAddChunk (internal/streams/readable.js:284:9)\n\tat Socket.Readable.push (internal/streams/readable.js:223:10)\n\tat Pipe.onStreamRead (internal/stream_base_commons.js:188:23)"
      }
     },
     "metadata": {}
    }
   ],
   "metadata": {}
  },
  {
   "cell_type": "markdown",
   "source": [
    "c) Liste código das pessoas, idade, código dos medicamentos que usaram e dias de uso"
   ],
   "metadata": {}
  },
  {
   "cell_type": "code",
   "execution_count": 27,
   "source": [
    "SELECT P.Id, P.age, U.DrugCode, U.DaysUse\r\n",
    "    FROM Pessoa P, Uso_do_Medicamento U\r\n",
    "    WHERE P.Id = U.PersonId"
   ],
   "outputs": [
    {
     "output_type": "display_data",
     "data": {
      "application/vnd.jupyter.widget-view+json": {
       "model_id": "98b2e568-4495-4526-acd7-16a0be3d9317",
       "version_major": 2,
       "version_minor": 0
      },
      "application/vnd.code.notebook.error": {
       "name": "Error",
       "message": "INVALID mime type: method. Must be in the format \"type/subtype[;optionalparameter]\"",
       "stack": "Error: INVALID mime type: method. Must be in the format \"type/subtype[;optionalparameter]\"\n\tat new Tt (c:\\Users\\Lucas\\AppData\\Local\\Programs\\Microsoft VS Code\\resources\\app\\out\\vs\\workbench\\services\\extensions\\node\\extensionHostProcess.js:87:55799)\n\tat Function.text (c:\\Users\\Lucas\\AppData\\Local\\Programs\\Microsoft VS Code\\resources\\app\\out\\vs\\workbench\\services\\extensions\\node\\extensionHostProcess.js:87:56450)\n\tat d (c:\\Users\\Lucas\\AppData\\Local\\Programs\\Microsoft VS Code\\resources\\app\\extensions\\ipynb\\dist\\ipynbMain.js:1:139047)\n\tat l (c:\\Users\\Lucas\\AppData\\Local\\Programs\\Microsoft VS Code\\resources\\app\\extensions\\ipynb\\dist\\ipynbMain.js:1:139713)\n\tat p (c:\\Users\\Lucas\\AppData\\Local\\Programs\\Microsoft VS Code\\resources\\app\\extensions\\ipynb\\dist\\ipynbMain.js:1:140218)\n\tat Array.map (<anonymous>)\n\tat c:\\Users\\Lucas\\AppData\\Local\\Programs\\Microsoft VS Code\\resources\\app\\extensions\\ipynb\\dist\\ipynbMain.js:1:141404\n\tat c:\\Users\\Lucas\\AppData\\Local\\Programs\\Microsoft VS Code\\resources\\app\\extensions\\ipynb\\dist\\ipynbMain.js:1:141646\n\tat c:\\Users\\Lucas\\AppData\\Local\\Programs\\Microsoft VS Code\\resources\\app\\extensions\\ipynb\\dist\\ipynbMain.js:1:141653\n\tat Array.map (<anonymous>)\n\tat e.jupyterNotebookModelToNotebookData (c:\\Users\\Lucas\\AppData\\Local\\Programs\\Microsoft VS Code\\resources\\app\\extensions\\ipynb\\dist\\ipynbMain.js:1:140962)\n\tat e.NotebookSerializer.deserializeNotebook (c:\\Users\\Lucas\\AppData\\Local\\Programs\\Microsoft VS Code\\resources\\app\\extensions\\ipynb\\dist\\ipynbMain.js:1:142865)\n\tat P.$dataToNotebook (c:\\Users\\Lucas\\AppData\\Local\\Programs\\Microsoft VS Code\\resources\\app\\out\\vs\\workbench\\services\\extensions\\node\\extensionHostProcess.js:94:214167)\n\tat i._doInvokeHandler (c:\\Users\\Lucas\\AppData\\Local\\Programs\\Microsoft VS Code\\resources\\app\\out\\vs\\workbench\\services\\extensions\\node\\extensionHostProcess.js:98:13543)\n\tat i._invokeHandler (c:\\Users\\Lucas\\AppData\\Local\\Programs\\Microsoft VS Code\\resources\\app\\out\\vs\\workbench\\services\\extensions\\node\\extensionHostProcess.js:98:13227)\n\tat i._receiveRequest (c:\\Users\\Lucas\\AppData\\Local\\Programs\\Microsoft VS Code\\resources\\app\\out\\vs\\workbench\\services\\extensions\\node\\extensionHostProcess.js:98:11838)\n\tat i._receiveOneMessage (c:\\Users\\Lucas\\AppData\\Local\\Programs\\Microsoft VS Code\\resources\\app\\out\\vs\\workbench\\services\\extensions\\node\\extensionHostProcess.js:98:10766)\n\tat c:\\Users\\Lucas\\AppData\\Local\\Programs\\Microsoft VS Code\\resources\\app\\out\\vs\\workbench\\services\\extensions\\node\\extensionHostProcess.js:98:8663\n\tat c.fire (c:\\Users\\Lucas\\AppData\\Local\\Programs\\Microsoft VS Code\\resources\\app\\out\\vs\\workbench\\services\\extensions\\node\\extensionHostProcess.js:66:1712)\n\tat l.fire (c:\\Users\\Lucas\\AppData\\Local\\Programs\\Microsoft VS Code\\resources\\app\\out\\vs\\workbench\\services\\extensions\\node\\extensionHostProcess.js:74:15781)\n\tat c:\\Users\\Lucas\\AppData\\Local\\Programs\\Microsoft VS Code\\resources\\app\\out\\vs\\workbench\\services\\extensions\\node\\extensionHostProcess.js:113:30187\n\tat c.fire (c:\\Users\\Lucas\\AppData\\Local\\Programs\\Microsoft VS Code\\resources\\app\\out\\vs\\workbench\\services\\extensions\\node\\extensionHostProcess.js:66:1712)\n\tat l.fire (c:\\Users\\Lucas\\AppData\\Local\\Programs\\Microsoft VS Code\\resources\\app\\out\\vs\\workbench\\services\\extensions\\node\\extensionHostProcess.js:74:15781)\n\tat r._receiveMessage (c:\\Users\\Lucas\\AppData\\Local\\Programs\\Microsoft VS Code\\resources\\app\\out\\vs\\workbench\\services\\extensions\\node\\extensionHostProcess.js:74:21051)\n\tat c:\\Users\\Lucas\\AppData\\Local\\Programs\\Microsoft VS Code\\resources\\app\\out\\vs\\workbench\\services\\extensions\\node\\extensionHostProcess.js:74:17929\n\tat c.fire (c:\\Users\\Lucas\\AppData\\Local\\Programs\\Microsoft VS Code\\resources\\app\\out\\vs\\workbench\\services\\extensions\\node\\extensionHostProcess.js:66:1712)\n\tat v.acceptChunk (c:\\Users\\Lucas\\AppData\\Local\\Programs\\Microsoft VS Code\\resources\\app\\out\\vs\\workbench\\services\\extensions\\node\\extensionHostProcess.js:74:13142)\n\tat c:\\Users\\Lucas\\AppData\\Local\\Programs\\Microsoft VS Code\\resources\\app\\out\\vs\\workbench\\services\\extensions\\node\\extensionHostProcess.js:74:12490\n\tat Socket.w (c:\\Users\\Lucas\\AppData\\Local\\Programs\\Microsoft VS Code\\resources\\app\\out\\vs\\workbench\\services\\extensions\\node\\extensionHostProcess.js:113:13350)\n\tat Socket.emit (events.js:315:20)\n\tat Socket.EventEmitter.emit (domain.js:467:12)\n\tat addChunk (internal/streams/readable.js:309:12)\n\tat readableAddChunk (internal/streams/readable.js:284:9)\n\tat Socket.Readable.push (internal/streams/readable.js:223:10)\n\tat Pipe.onStreamRead (internal/stream_base_commons.js:188:23)"
      }
     },
     "metadata": {}
    }
   ],
   "metadata": {}
  },
  {
   "cell_type": "markdown",
   "source": [
    "d) Liste código das Pessoas, idade, nome dos medicamentos que usaram e quantos dias de uso"
   ],
   "metadata": {}
  },
  {
   "cell_type": "code",
   "execution_count": 28,
   "source": [
    "SELECT P.Id, P.age, M.Name, U.DaysUse\r\n",
    "    FROM Pessoa P, Uso_do_Medicamento U, Medicamento M\r\n",
    "    WHERE P.Id = U.PersonId AND M.Code = U.DrugCode"
   ],
   "outputs": [
    {
     "output_type": "display_data",
     "data": {
      "application/vnd.jupyter.widget-view+json": {
       "model_id": "302dd747-ab5d-4912-b384-07f33c0c755e",
       "version_major": 2,
       "version_minor": 0
      },
      "application/vnd.code.notebook.error": {
       "name": "Error",
       "message": "INVALID mime type: method. Must be in the format \"type/subtype[;optionalparameter]\"",
       "stack": "Error: INVALID mime type: method. Must be in the format \"type/subtype[;optionalparameter]\"\n\tat new Tt (c:\\Users\\Lucas\\AppData\\Local\\Programs\\Microsoft VS Code\\resources\\app\\out\\vs\\workbench\\services\\extensions\\node\\extensionHostProcess.js:87:55799)\n\tat Function.text (c:\\Users\\Lucas\\AppData\\Local\\Programs\\Microsoft VS Code\\resources\\app\\out\\vs\\workbench\\services\\extensions\\node\\extensionHostProcess.js:87:56450)\n\tat d (c:\\Users\\Lucas\\AppData\\Local\\Programs\\Microsoft VS Code\\resources\\app\\extensions\\ipynb\\dist\\ipynbMain.js:1:139047)\n\tat l (c:\\Users\\Lucas\\AppData\\Local\\Programs\\Microsoft VS Code\\resources\\app\\extensions\\ipynb\\dist\\ipynbMain.js:1:139713)\n\tat p (c:\\Users\\Lucas\\AppData\\Local\\Programs\\Microsoft VS Code\\resources\\app\\extensions\\ipynb\\dist\\ipynbMain.js:1:140218)\n\tat Array.map (<anonymous>)\n\tat c:\\Users\\Lucas\\AppData\\Local\\Programs\\Microsoft VS Code\\resources\\app\\extensions\\ipynb\\dist\\ipynbMain.js:1:141404\n\tat c:\\Users\\Lucas\\AppData\\Local\\Programs\\Microsoft VS Code\\resources\\app\\extensions\\ipynb\\dist\\ipynbMain.js:1:141646\n\tat c:\\Users\\Lucas\\AppData\\Local\\Programs\\Microsoft VS Code\\resources\\app\\extensions\\ipynb\\dist\\ipynbMain.js:1:141653\n\tat Array.map (<anonymous>)\n\tat e.jupyterNotebookModelToNotebookData (c:\\Users\\Lucas\\AppData\\Local\\Programs\\Microsoft VS Code\\resources\\app\\extensions\\ipynb\\dist\\ipynbMain.js:1:140962)\n\tat e.NotebookSerializer.deserializeNotebook (c:\\Users\\Lucas\\AppData\\Local\\Programs\\Microsoft VS Code\\resources\\app\\extensions\\ipynb\\dist\\ipynbMain.js:1:142865)\n\tat P.$dataToNotebook (c:\\Users\\Lucas\\AppData\\Local\\Programs\\Microsoft VS Code\\resources\\app\\out\\vs\\workbench\\services\\extensions\\node\\extensionHostProcess.js:94:214167)\n\tat i._doInvokeHandler (c:\\Users\\Lucas\\AppData\\Local\\Programs\\Microsoft VS Code\\resources\\app\\out\\vs\\workbench\\services\\extensions\\node\\extensionHostProcess.js:98:13543)\n\tat i._invokeHandler (c:\\Users\\Lucas\\AppData\\Local\\Programs\\Microsoft VS Code\\resources\\app\\out\\vs\\workbench\\services\\extensions\\node\\extensionHostProcess.js:98:13227)\n\tat i._receiveRequest (c:\\Users\\Lucas\\AppData\\Local\\Programs\\Microsoft VS Code\\resources\\app\\out\\vs\\workbench\\services\\extensions\\node\\extensionHostProcess.js:98:11838)\n\tat i._receiveOneMessage (c:\\Users\\Lucas\\AppData\\Local\\Programs\\Microsoft VS Code\\resources\\app\\out\\vs\\workbench\\services\\extensions\\node\\extensionHostProcess.js:98:10766)\n\tat c:\\Users\\Lucas\\AppData\\Local\\Programs\\Microsoft VS Code\\resources\\app\\out\\vs\\workbench\\services\\extensions\\node\\extensionHostProcess.js:98:8663\n\tat c.fire (c:\\Users\\Lucas\\AppData\\Local\\Programs\\Microsoft VS Code\\resources\\app\\out\\vs\\workbench\\services\\extensions\\node\\extensionHostProcess.js:66:1712)\n\tat l.fire (c:\\Users\\Lucas\\AppData\\Local\\Programs\\Microsoft VS Code\\resources\\app\\out\\vs\\workbench\\services\\extensions\\node\\extensionHostProcess.js:74:15781)\n\tat c:\\Users\\Lucas\\AppData\\Local\\Programs\\Microsoft VS Code\\resources\\app\\out\\vs\\workbench\\services\\extensions\\node\\extensionHostProcess.js:113:30187\n\tat c.fire (c:\\Users\\Lucas\\AppData\\Local\\Programs\\Microsoft VS Code\\resources\\app\\out\\vs\\workbench\\services\\extensions\\node\\extensionHostProcess.js:66:1712)\n\tat l.fire (c:\\Users\\Lucas\\AppData\\Local\\Programs\\Microsoft VS Code\\resources\\app\\out\\vs\\workbench\\services\\extensions\\node\\extensionHostProcess.js:74:15781)\n\tat r._receiveMessage (c:\\Users\\Lucas\\AppData\\Local\\Programs\\Microsoft VS Code\\resources\\app\\out\\vs\\workbench\\services\\extensions\\node\\extensionHostProcess.js:74:21051)\n\tat c:\\Users\\Lucas\\AppData\\Local\\Programs\\Microsoft VS Code\\resources\\app\\out\\vs\\workbench\\services\\extensions\\node\\extensionHostProcess.js:74:17929\n\tat c.fire (c:\\Users\\Lucas\\AppData\\Local\\Programs\\Microsoft VS Code\\resources\\app\\out\\vs\\workbench\\services\\extensions\\node\\extensionHostProcess.js:66:1712)\n\tat v.acceptChunk (c:\\Users\\Lucas\\AppData\\Local\\Programs\\Microsoft VS Code\\resources\\app\\out\\vs\\workbench\\services\\extensions\\node\\extensionHostProcess.js:74:13142)\n\tat c:\\Users\\Lucas\\AppData\\Local\\Programs\\Microsoft VS Code\\resources\\app\\out\\vs\\workbench\\services\\extensions\\node\\extensionHostProcess.js:74:12490\n\tat Socket.w (c:\\Users\\Lucas\\AppData\\Local\\Programs\\Microsoft VS Code\\resources\\app\\out\\vs\\workbench\\services\\extensions\\node\\extensionHostProcess.js:113:13350)\n\tat Socket.emit (events.js:315:20)\n\tat Socket.EventEmitter.emit (domain.js:467:12)\n\tat addChunk (internal/streams/readable.js:309:12)\n\tat readableAddChunk (internal/streams/readable.js:284:9)\n\tat Socket.Readable.push (internal/streams/readable.js:223:10)\n\tat Pipe.onStreamRead (internal/stream_base_commons.js:188:23)"
      }
     },
     "metadata": {}
    }
   ],
   "metadata": {}
  },
  {
   "cell_type": "markdown",
   "source": [
    "e) Liste nome dos medicamentos que foram usados por pessoas (sem repetições)"
   ],
   "metadata": {}
  },
  {
   "cell_type": "code",
   "execution_count": 36,
   "source": [
    "SELECT DISTINCT M.Name\r\n",
    "FROM Medicamento M, Uso_do_Medicamento U\r\n",
    "WHERE M.Code = U.DrugCode"
   ],
   "outputs": [
    {
     "output_type": "display_data",
     "data": {
      "application/vnd.jupyter.widget-view+json": {
       "model_id": "29daaeca-ba33-4e92-a182-a6ba8e03b0d3",
       "version_major": 2,
       "version_minor": 0
      },
      "application/vnd.code.notebook.error": {
       "name": "Error",
       "message": "INVALID mime type: method. Must be in the format \"type/subtype[;optionalparameter]\"",
       "stack": "Error: INVALID mime type: method. Must be in the format \"type/subtype[;optionalparameter]\"\n\tat new Tt (c:\\Users\\Lucas\\AppData\\Local\\Programs\\Microsoft VS Code\\resources\\app\\out\\vs\\workbench\\services\\extensions\\node\\extensionHostProcess.js:87:55799)\n\tat Function.text (c:\\Users\\Lucas\\AppData\\Local\\Programs\\Microsoft VS Code\\resources\\app\\out\\vs\\workbench\\services\\extensions\\node\\extensionHostProcess.js:87:56450)\n\tat d (c:\\Users\\Lucas\\AppData\\Local\\Programs\\Microsoft VS Code\\resources\\app\\extensions\\ipynb\\dist\\ipynbMain.js:1:139047)\n\tat l (c:\\Users\\Lucas\\AppData\\Local\\Programs\\Microsoft VS Code\\resources\\app\\extensions\\ipynb\\dist\\ipynbMain.js:1:139713)\n\tat p (c:\\Users\\Lucas\\AppData\\Local\\Programs\\Microsoft VS Code\\resources\\app\\extensions\\ipynb\\dist\\ipynbMain.js:1:140218)\n\tat Array.map (<anonymous>)\n\tat c:\\Users\\Lucas\\AppData\\Local\\Programs\\Microsoft VS Code\\resources\\app\\extensions\\ipynb\\dist\\ipynbMain.js:1:141404\n\tat c:\\Users\\Lucas\\AppData\\Local\\Programs\\Microsoft VS Code\\resources\\app\\extensions\\ipynb\\dist\\ipynbMain.js:1:141646\n\tat c:\\Users\\Lucas\\AppData\\Local\\Programs\\Microsoft VS Code\\resources\\app\\extensions\\ipynb\\dist\\ipynbMain.js:1:141653\n\tat Array.map (<anonymous>)\n\tat e.jupyterNotebookModelToNotebookData (c:\\Users\\Lucas\\AppData\\Local\\Programs\\Microsoft VS Code\\resources\\app\\extensions\\ipynb\\dist\\ipynbMain.js:1:140962)\n\tat e.NotebookSerializer.deserializeNotebook (c:\\Users\\Lucas\\AppData\\Local\\Programs\\Microsoft VS Code\\resources\\app\\extensions\\ipynb\\dist\\ipynbMain.js:1:142865)\n\tat P.$dataToNotebook (c:\\Users\\Lucas\\AppData\\Local\\Programs\\Microsoft VS Code\\resources\\app\\out\\vs\\workbench\\services\\extensions\\node\\extensionHostProcess.js:94:214167)\n\tat i._doInvokeHandler (c:\\Users\\Lucas\\AppData\\Local\\Programs\\Microsoft VS Code\\resources\\app\\out\\vs\\workbench\\services\\extensions\\node\\extensionHostProcess.js:98:13543)\n\tat i._invokeHandler (c:\\Users\\Lucas\\AppData\\Local\\Programs\\Microsoft VS Code\\resources\\app\\out\\vs\\workbench\\services\\extensions\\node\\extensionHostProcess.js:98:13227)\n\tat i._receiveRequest (c:\\Users\\Lucas\\AppData\\Local\\Programs\\Microsoft VS Code\\resources\\app\\out\\vs\\workbench\\services\\extensions\\node\\extensionHostProcess.js:98:11838)\n\tat i._receiveOneMessage (c:\\Users\\Lucas\\AppData\\Local\\Programs\\Microsoft VS Code\\resources\\app\\out\\vs\\workbench\\services\\extensions\\node\\extensionHostProcess.js:98:10766)\n\tat c:\\Users\\Lucas\\AppData\\Local\\Programs\\Microsoft VS Code\\resources\\app\\out\\vs\\workbench\\services\\extensions\\node\\extensionHostProcess.js:98:8663\n\tat c.fire (c:\\Users\\Lucas\\AppData\\Local\\Programs\\Microsoft VS Code\\resources\\app\\out\\vs\\workbench\\services\\extensions\\node\\extensionHostProcess.js:66:1712)\n\tat l.fire (c:\\Users\\Lucas\\AppData\\Local\\Programs\\Microsoft VS Code\\resources\\app\\out\\vs\\workbench\\services\\extensions\\node\\extensionHostProcess.js:74:15781)\n\tat c:\\Users\\Lucas\\AppData\\Local\\Programs\\Microsoft VS Code\\resources\\app\\out\\vs\\workbench\\services\\extensions\\node\\extensionHostProcess.js:113:30187\n\tat c.fire (c:\\Users\\Lucas\\AppData\\Local\\Programs\\Microsoft VS Code\\resources\\app\\out\\vs\\workbench\\services\\extensions\\node\\extensionHostProcess.js:66:1712)\n\tat l.fire (c:\\Users\\Lucas\\AppData\\Local\\Programs\\Microsoft VS Code\\resources\\app\\out\\vs\\workbench\\services\\extensions\\node\\extensionHostProcess.js:74:15781)\n\tat r._receiveMessage (c:\\Users\\Lucas\\AppData\\Local\\Programs\\Microsoft VS Code\\resources\\app\\out\\vs\\workbench\\services\\extensions\\node\\extensionHostProcess.js:74:21051)\n\tat c:\\Users\\Lucas\\AppData\\Local\\Programs\\Microsoft VS Code\\resources\\app\\out\\vs\\workbench\\services\\extensions\\node\\extensionHostProcess.js:74:17929\n\tat c.fire (c:\\Users\\Lucas\\AppData\\Local\\Programs\\Microsoft VS Code\\resources\\app\\out\\vs\\workbench\\services\\extensions\\node\\extensionHostProcess.js:66:1712)\n\tat v.acceptChunk (c:\\Users\\Lucas\\AppData\\Local\\Programs\\Microsoft VS Code\\resources\\app\\out\\vs\\workbench\\services\\extensions\\node\\extensionHostProcess.js:74:13142)\n\tat c:\\Users\\Lucas\\AppData\\Local\\Programs\\Microsoft VS Code\\resources\\app\\out\\vs\\workbench\\services\\extensions\\node\\extensionHostProcess.js:74:12490\n\tat Socket.w (c:\\Users\\Lucas\\AppData\\Local\\Programs\\Microsoft VS Code\\resources\\app\\out\\vs\\workbench\\services\\extensions\\node\\extensionHostProcess.js:113:13350)\n\tat Socket.emit (events.js:315:20)\n\tat Socket.EventEmitter.emit (domain.js:467:12)\n\tat addChunk (internal/streams/readable.js:309:12)\n\tat readableAddChunk (internal/streams/readable.js:284:9)\n\tat Socket.Readable.push (internal/streams/readable.js:223:10)\n\tat Pipe.onStreamRead (internal/stream_base_commons.js:188:23)"
      }
     },
     "metadata": {}
    }
   ],
   "metadata": {}
  },
  {
   "cell_type": "markdown",
   "source": [
    "f) Liste nome dos medicamentos usados por mais de 2.000 dias (sem repetições)"
   ],
   "metadata": {}
  },
  {
   "cell_type": "code",
   "execution_count": 35,
   "source": [
    "SELECT DISTINCT M.Name\r\n",
    "    FROM Medicamento M, Uso_do_Medicamento U\r\n",
    "    WHERE M.Code = U.DrugCode AND U.DaysUse > 2000"
   ],
   "outputs": [
    {
     "output_type": "display_data",
     "data": {
      "application/vnd.jupyter.widget-view+json": {
       "model_id": "38d76523-1b1e-4e42-bc71-b09995301bb3",
       "version_major": 2,
       "version_minor": 0
      },
      "application/vnd.code.notebook.error": {
       "name": "Error",
       "message": "INVALID mime type: method. Must be in the format \"type/subtype[;optionalparameter]\"",
       "stack": "Error: INVALID mime type: method. Must be in the format \"type/subtype[;optionalparameter]\"\n\tat new Tt (c:\\Users\\Lucas\\AppData\\Local\\Programs\\Microsoft VS Code\\resources\\app\\out\\vs\\workbench\\services\\extensions\\node\\extensionHostProcess.js:87:55799)\n\tat Function.text (c:\\Users\\Lucas\\AppData\\Local\\Programs\\Microsoft VS Code\\resources\\app\\out\\vs\\workbench\\services\\extensions\\node\\extensionHostProcess.js:87:56450)\n\tat d (c:\\Users\\Lucas\\AppData\\Local\\Programs\\Microsoft VS Code\\resources\\app\\extensions\\ipynb\\dist\\ipynbMain.js:1:139047)\n\tat l (c:\\Users\\Lucas\\AppData\\Local\\Programs\\Microsoft VS Code\\resources\\app\\extensions\\ipynb\\dist\\ipynbMain.js:1:139713)\n\tat p (c:\\Users\\Lucas\\AppData\\Local\\Programs\\Microsoft VS Code\\resources\\app\\extensions\\ipynb\\dist\\ipynbMain.js:1:140218)\n\tat Array.map (<anonymous>)\n\tat c:\\Users\\Lucas\\AppData\\Local\\Programs\\Microsoft VS Code\\resources\\app\\extensions\\ipynb\\dist\\ipynbMain.js:1:141404\n\tat c:\\Users\\Lucas\\AppData\\Local\\Programs\\Microsoft VS Code\\resources\\app\\extensions\\ipynb\\dist\\ipynbMain.js:1:141646\n\tat c:\\Users\\Lucas\\AppData\\Local\\Programs\\Microsoft VS Code\\resources\\app\\extensions\\ipynb\\dist\\ipynbMain.js:1:141653\n\tat Array.map (<anonymous>)\n\tat e.jupyterNotebookModelToNotebookData (c:\\Users\\Lucas\\AppData\\Local\\Programs\\Microsoft VS Code\\resources\\app\\extensions\\ipynb\\dist\\ipynbMain.js:1:140962)\n\tat e.NotebookSerializer.deserializeNotebook (c:\\Users\\Lucas\\AppData\\Local\\Programs\\Microsoft VS Code\\resources\\app\\extensions\\ipynb\\dist\\ipynbMain.js:1:142865)\n\tat P.$dataToNotebook (c:\\Users\\Lucas\\AppData\\Local\\Programs\\Microsoft VS Code\\resources\\app\\out\\vs\\workbench\\services\\extensions\\node\\extensionHostProcess.js:94:214167)\n\tat i._doInvokeHandler (c:\\Users\\Lucas\\AppData\\Local\\Programs\\Microsoft VS Code\\resources\\app\\out\\vs\\workbench\\services\\extensions\\node\\extensionHostProcess.js:98:13543)\n\tat i._invokeHandler (c:\\Users\\Lucas\\AppData\\Local\\Programs\\Microsoft VS Code\\resources\\app\\out\\vs\\workbench\\services\\extensions\\node\\extensionHostProcess.js:98:13227)\n\tat i._receiveRequest (c:\\Users\\Lucas\\AppData\\Local\\Programs\\Microsoft VS Code\\resources\\app\\out\\vs\\workbench\\services\\extensions\\node\\extensionHostProcess.js:98:11838)\n\tat i._receiveOneMessage (c:\\Users\\Lucas\\AppData\\Local\\Programs\\Microsoft VS Code\\resources\\app\\out\\vs\\workbench\\services\\extensions\\node\\extensionHostProcess.js:98:10766)\n\tat c:\\Users\\Lucas\\AppData\\Local\\Programs\\Microsoft VS Code\\resources\\app\\out\\vs\\workbench\\services\\extensions\\node\\extensionHostProcess.js:98:8663\n\tat c.fire (c:\\Users\\Lucas\\AppData\\Local\\Programs\\Microsoft VS Code\\resources\\app\\out\\vs\\workbench\\services\\extensions\\node\\extensionHostProcess.js:66:1712)\n\tat l.fire (c:\\Users\\Lucas\\AppData\\Local\\Programs\\Microsoft VS Code\\resources\\app\\out\\vs\\workbench\\services\\extensions\\node\\extensionHostProcess.js:74:15781)\n\tat c:\\Users\\Lucas\\AppData\\Local\\Programs\\Microsoft VS Code\\resources\\app\\out\\vs\\workbench\\services\\extensions\\node\\extensionHostProcess.js:113:30187\n\tat c.fire (c:\\Users\\Lucas\\AppData\\Local\\Programs\\Microsoft VS Code\\resources\\app\\out\\vs\\workbench\\services\\extensions\\node\\extensionHostProcess.js:66:1712)\n\tat l.fire (c:\\Users\\Lucas\\AppData\\Local\\Programs\\Microsoft VS Code\\resources\\app\\out\\vs\\workbench\\services\\extensions\\node\\extensionHostProcess.js:74:15781)\n\tat r._receiveMessage (c:\\Users\\Lucas\\AppData\\Local\\Programs\\Microsoft VS Code\\resources\\app\\out\\vs\\workbench\\services\\extensions\\node\\extensionHostProcess.js:74:21051)\n\tat c:\\Users\\Lucas\\AppData\\Local\\Programs\\Microsoft VS Code\\resources\\app\\out\\vs\\workbench\\services\\extensions\\node\\extensionHostProcess.js:74:17929\n\tat c.fire (c:\\Users\\Lucas\\AppData\\Local\\Programs\\Microsoft VS Code\\resources\\app\\out\\vs\\workbench\\services\\extensions\\node\\extensionHostProcess.js:66:1712)\n\tat v.acceptChunk (c:\\Users\\Lucas\\AppData\\Local\\Programs\\Microsoft VS Code\\resources\\app\\out\\vs\\workbench\\services\\extensions\\node\\extensionHostProcess.js:74:13142)\n\tat c:\\Users\\Lucas\\AppData\\Local\\Programs\\Microsoft VS Code\\resources\\app\\out\\vs\\workbench\\services\\extensions\\node\\extensionHostProcess.js:74:12490\n\tat Socket.w (c:\\Users\\Lucas\\AppData\\Local\\Programs\\Microsoft VS Code\\resources\\app\\out\\vs\\workbench\\services\\extensions\\node\\extensionHostProcess.js:113:13350)\n\tat Socket.emit (events.js:315:20)\n\tat Socket.EventEmitter.emit (domain.js:467:12)\n\tat addChunk (internal/streams/readable.js:309:12)\n\tat readableAddChunk (internal/streams/readable.js:284:9)\n\tat Socket.Readable.push (internal/streams/readable.js:223:10)\n\tat Pipe.onStreamRead (internal/stream_base_commons.js:188:23)"
      }
     },
     "metadata": {}
    }
   ],
   "metadata": {}
  }
 ],
 "metadata": {
  "kernelspec": {
   "display_name": "SQL",
   "language": "SQL",
   "name": "sql"
  },
  "language_info": {
   "codemirror_mode": "sql",
   "file_extension": ".sql",
   "mimetype": "",
   "name": "SQL",
   "nbconverter_exporter": "",
   "version": ""
  },
  "toc": {
   "base_numbering": 1,
   "nav_menu": {},
   "number_sections": false,
   "sideBar": false,
   "skip_h1_title": false,
   "title_cell": "Table of Contents",
   "title_sidebar": "Contents",
   "toc_cell": false,
   "toc_position": {},
   "toc_section_display": false,
   "toc_window_display": false
  }
 },
 "nbformat": 4,
 "nbformat_minor": 2
}